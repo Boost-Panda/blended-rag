{
 "cells": [
  {
   "cell_type": "code",
   "execution_count": 1,
   "metadata": {},
   "outputs": [
    {
     "name": "stderr",
     "output_type": "stream",
     "text": [
      "/Users/hassan/Documents/boostpanda/blended-rag/venv/lib/python3.8/site-packages/pinecone/data/index.py:1: TqdmWarning: IProgress not found. Please update jupyter and ipywidgets. See https://ipywidgets.readthedocs.io/en/stable/user_install.html\n",
      "  from tqdm.autonotebook import tqdm\n"
     ]
    },
    {
     "data": {
      "text/plain": [
       "True"
      ]
     },
     "execution_count": 1,
     "metadata": {},
     "output_type": "execute_result"
    }
   ],
   "source": [
    "from data_loader import DataLoader\n",
    "from data_retriever import DataRetriever\n",
    "from response_generator import ResponseGenerator\n",
    "\n",
    "\n",
    "# load environment variables\n",
    "import os\n",
    "from dotenv import load_dotenv\n",
    "load_dotenv()\n"
   ]
  },
  {
   "cell_type": "code",
   "execution_count": 2,
   "metadata": {},
   "outputs": [
    {
     "name": "stdout",
     "output_type": "stream",
     "text": [
      "7577\n"
     ]
    }
   ],
   "source": [
    "# read dspy-docs.txt file as text\n",
    "with open('dspy-docs.txt', 'r') as file:\n",
    "    text = file.read()\n",
    "    \n",
    "\n",
    "# print the length of the words in the text\n",
    "print(len(text.split()))"
   ]
  },
  {
   "cell_type": "code",
   "execution_count": 3,
   "metadata": {},
   "outputs": [],
   "source": [
    "# Initialize components\n",
    "# es_index_name = 'test-rag-index'\n",
    "es_index_name = 'test-rag-index-meta'\n",
    "es_index_for_pinecone_meta = 'test-rag-index-meta'\n",
    "pinecone_index_name = 'test-rag-index'\n",
    "pinecone_api_key = os.getenv('PINECONE_API_KEY')\n",
    "openai_api_key = os.getenv('OPENAI_API_KEY')"
   ]
  },
  {
   "cell_type": "code",
   "execution_count": null,
   "metadata": {},
   "outputs": [],
   "source": []
  },
  {
   "cell_type": "code",
   "execution_count": 4,
   "metadata": {},
   "outputs": [
    {
     "name": "stdout",
     "output_type": "stream",
     "text": [
      "Elasticsearch index test-rag-index-meta already exists\n",
      "Elasticsearch index test-rag-index-meta already exists\n",
      "Pinecone index test-rag-index already exists\n"
     ]
    }
   ],
   "source": [
    "data_loader = DataLoader(es_index_name, es_index_for_pinecone_meta, pinecone_index_name, pinecone_api_key)"
   ]
  },
  {
   "cell_type": "code",
   "execution_count": null,
   "metadata": {},
   "outputs": [],
   "source": [
    "data_loader.delete_indexes()"
   ]
  },
  {
   "cell_type": "code",
   "execution_count": null,
   "metadata": {},
   "outputs": [],
   "source": [
    "data_loader.create_indexes()"
   ]
  },
  {
   "cell_type": "code",
   "execution_count": null,
   "metadata": {},
   "outputs": [],
   "source": [
    "# data_loader.save_embeddings_and_documents(\"New Paris is in Lahore\")\n",
    "data_loader.save_embeddings_and_documents(text)"
   ]
  },
  {
   "cell_type": "code",
   "execution_count": null,
   "metadata": {},
   "outputs": [],
   "source": []
  },
  {
   "cell_type": "code",
   "execution_count": null,
   "metadata": {},
   "outputs": [],
   "source": []
  },
  {
   "cell_type": "code",
   "execution_count": 5,
   "metadata": {},
   "outputs": [],
   "source": [
    "data_retriever = DataRetriever(es_index_name, pinecone_index_name, pinecone_api_key)"
   ]
  },
  {
   "cell_type": "code",
   "execution_count": 11,
   "metadata": {},
   "outputs": [],
   "source": [
    "query = \"\"\"\n",
    "write me a sample dspy code\n",
    "\"\"\""
   ]
  },
  {
   "cell_type": "code",
   "execution_count": 12,
   "metadata": {},
   "outputs": [
    {
     "name": "stdout",
     "output_type": "stream",
     "text": [
      "BM25 Results: Found 3 documents\n"
     ]
    }
   ],
   "source": [
    "context = data_retriever.blended_retrieval(query)"
   ]
  },
  {
   "cell_type": "code",
   "execution_count": 7,
   "metadata": {},
   "outputs": [],
   "source": [
    "from response_generator import ResponseGenerator"
   ]
  },
  {
   "cell_type": "code",
   "execution_count": 8,
   "metadata": {},
   "outputs": [],
   "source": [
    "response_generator = ResponseGenerator(openai_api_key)"
   ]
  },
  {
   "cell_type": "code",
   "execution_count": 13,
   "metadata": {},
   "outputs": [
    {
     "name": "stdout",
     "output_type": "stream",
     "text": [
      "Here’s a sample code using DSPy to build a simple question-answering system:\n",
      "\n",
      "```python\n",
      "import dspy\n",
      "\n",
      "# Define a simple Signature for the QA system\n",
      "class BasicQA(dspy.Signature):\n",
      "    \"\"\"Answer questions with short factoid answers.\"\"\"\n",
      "    question = dspy.InputField()\n",
      "    answer = dspy.OutputField(desc=\"often between 1 and 5 words\")\n",
      "\n",
      "# Create a Chain of Thought model for generating answers\n",
      "generate_answer = dspy.ChainOfThought(BasicQA)\n",
      "\n",
      "# Sample question\n",
      "question = 'What is the capital of France?'\n",
      "\n",
      "# Call the predictor on a particular input\n",
      "pred = generate_answer(question=question)\n",
      "\n",
      "# Print the predicted answer\n",
      "print(f'Question: {question}')\n",
      "print(f'Answer: {pred}')\n",
      "```\n",
      "\n",
      "In this code, we first defined a `BasicQA` class that specifies the expected input and output fields. We then created an instance of `ChainOfThought` to handle the question-answering task, and finally, we queried the model with a sample question to get an answer.\n"
     ]
    }
   ],
   "source": [
    "print(response_generator.generate_response(query, context))"
   ]
  },
  {
   "cell_type": "code",
   "execution_count": null,
   "metadata": {},
   "outputs": [],
   "source": []
  }
 ],
 "metadata": {
  "kernelspec": {
   "display_name": "venv",
   "language": "python",
   "name": "python3"
  },
  "language_info": {
   "codemirror_mode": {
    "name": "ipython",
    "version": 3
   },
   "file_extension": ".py",
   "mimetype": "text/x-python",
   "name": "python",
   "nbconvert_exporter": "python",
   "pygments_lexer": "ipython3",
   "version": "3.8.16"
  }
 },
 "nbformat": 4,
 "nbformat_minor": 2
}
